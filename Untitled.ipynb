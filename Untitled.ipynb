{
 "cells": [
  {
   "cell_type": "code",
   "execution_count": 10,
   "metadata": {},
   "outputs": [],
   "source": [
    "import io"
   ]
  },
  {
   "cell_type": "code",
   "execution_count": 25,
   "metadata": {},
   "outputs": [
    {
     "data": {
      "text/plain": [
       "421766"
      ]
     },
     "execution_count": 25,
     "metadata": {},
     "output_type": "execute_result"
    }
   ],
   "source": [
    "with open('C:\\\\Users\\\\ksn\\\\source\\\\rus.txt', 'r', encoding='utf-8') as f:\n",
    "    lines = f.read().split('\\n')\n",
    "\n",
    "len(lines)"
   ]
  },
  {
   "cell_type": "code",
   "execution_count": 24,
   "metadata": {},
   "outputs": [
    {
     "name": "stdout",
     "output_type": "stream",
     "text": [
      "[['Go.', 'Марш!'], ['Go.', 'Иди.'], ['Go.', 'Идите.'], ['Hi.', 'Здравствуйте.'], ['Hi.', 'Привет!'], ['Hi.', 'Хай.'], ['Hi.', 'Здрасте.'], ['Hi.', 'Здоро́во!'], ['Run!', 'Беги!'], ['Run!', 'Бегите!'], ['Run.', 'Беги!'], ['Run.', 'Бегите!'], ['Who?', 'Кто?'], ['Wow!', 'Вот это да!'], ['Wow!', 'Круто!'], ['Wow!', 'Здорово!'], ['Wow!', 'Ух ты!'], ['Wow!', 'Ого!'], ['Wow!', 'Вах!'], ['Fire!', 'Огонь!'], ['Fire!', 'Пожар!'], ['Help!', 'Помогите!'], ['Help!', 'На помощь!'], ['Help!', 'Спасите!'], ['Hide.', 'Прячься.'], ['Hide.', 'Прячьтесь.'], ['Jump!', 'Прыгай!'], ['Jump!', 'Прыгайте!'], ['Jump.', 'Прыгай!'], ['Jump.', 'Прыгайте!'], ['Stay.', 'Оставайся.'], ['Stay.', 'Оставайтесь.'], ['Stay.', 'Останься.'], ['Stay.', 'Останьтесь.'], ['Stop!', 'Стой!'], ['Stop!', 'Остановитесь!'], ['Stop!', 'Остановись!'], ['Wait!', 'Подожди!'], ['Wait!', 'Подождите!'], ['Wait!', 'Ждите!'], ['Wait!', 'Жди!'], ['Wait.', 'Ждите.'], ['Wait.', 'Подожди.'], ['Wait.', 'Подождите.'], ['Do it.', 'Сделай это.'], ['Go on.', 'Продолжай.'], ['Go on.', 'Продолжайте.'], ['Hello!', 'Здравствуйте.'], ['Hello!', 'Привет!'], ['Hello!', 'Алло!'], ['Hurry!', 'Поспешите.'], ['I ran.', 'Я бежал.'], ['I ran.', 'Я бежала.'], ['I ran.', 'Я побежал.'], ['I ran.', 'Я побежала.'], ['I see.', 'Понимаю.'], ['I see.', 'Понятно.'], ['I see.', 'Вижу.'], ['I try.', 'Я пытаюсь.'], ['I try.', 'Я стараюсь.'], ['I try.', 'Я пробую.'], ['I won!', 'Я победил!'], ['I won!', 'Я победила!'], ['I won!', 'Я выиграл!'], ['I won!', 'Я выиграла!'], ['Oh no!', 'О нет!'], ['Relax.', 'Расслабьтесь.'], ['Relax.', 'Попустись.'], ['Relax.', 'Расслабься.'], ['Shoot!', 'Стреляй!'], ['Smile.', 'Улыбочка.'], ['Smile.', 'Улыбнитесь.'], ['Smile.', 'Улыбнись.'], ['Smile.', 'Улыбайся.'], ['Smile.', 'Улыбнитесь!'], ['Smile.', 'Улыбайтесь!'], ['Sorry?', 'Извините?'], ['Sorry?', 'Извини?'], ['Attack!', 'В атаку!'], ['Cheers!', 'За ваше здоровье!'], ['Cheers!', 'За Ваше здоровье!'], ['Cheers!', 'Будем!'], ['Cheers!', 'Ваше здоровье!'], ['Cheers!', 'Твоё здоровье!'], ['Eat it.', 'Съешь это.'], ['Eat it.', 'Съешь его.'], ['Eat it.', 'Съешьте его.'], ['Eat it.', 'Съешь её.'], ['Eat it.', 'Съешьте её.'], ['Eat it.', 'Съешьте это.'], ['Eat up.', 'Доедай.'], ['Freeze!', 'Ни с места!'], ['Freeze!', 'Никому не двигаться.'], ['Freeze!', 'Застынь!'], ['Freeze!', 'Замри!'], ['Get up.', 'Вставай.'], ['Get up.', 'Вставай!'], ['Get up.', 'Поднимайся.'], ['Get up.', 'Поднимайтесь.'], ['Go now.', 'А теперь уходи.']]\n"
     ]
    },
    {
     "data": {
      "text/plain": [
       "<zip at 0x2343228f108>"
      ]
     },
     "execution_count": 24,
     "metadata": {},
     "output_type": "execute_result"
    }
   ],
   "source": [
    "def create_dataset(path, num_examples):\n",
    "    lines = io.open(path, encoding='UTF-8').read().strip().split('\\n')\n",
    "\n",
    "    word_pairs = [[w for w in l.split('\\t')[:2]]  for l in lines[:num_examples]]\n",
    "    print(word_pairs)\n",
    "\n",
    "    return zip(*word_pairs)\n",
    "\n",
    "# en, sp = create_dataset('C:\\\\Users\\\\ksn\\\\source\\\\rus.txt', None)\n",
    "\n",
    "# print(en[-1])\n",
    "# print(sp[-1])\n",
    "\n",
    "create_dataset('C:\\\\Users\\\\ksn\\\\source\\\\rus.txt', 100)"
   ]
  }
 ],
 "metadata": {
  "kernelspec": {
   "display_name": "Python 3",
   "language": "python",
   "name": "python3"
  },
  "language_info": {
   "codemirror_mode": {
    "name": "ipython",
    "version": 3
   },
   "file_extension": ".py",
   "mimetype": "text/x-python",
   "name": "python",
   "nbconvert_exporter": "python",
   "pygments_lexer": "ipython3",
   "version": "3.7.8"
  }
 },
 "nbformat": 4,
 "nbformat_minor": 4
}
